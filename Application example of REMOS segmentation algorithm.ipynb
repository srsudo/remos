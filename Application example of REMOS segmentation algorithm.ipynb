{
 "cells": [
  {
   "cell_type": "markdown",
   "metadata": {},
   "source": [
    "## REMOS segmentation demonstration. \n",
    "\n",
    "This Jupyter notebook demonstrates the segmentation applicability of REMOS with 20 minutes data from Bezymianny volcano, recorded on REMOS, on a seismic data stream at Bezymianny volcano recorded on Sunday, 2nd September during the 2007 eruption, station BESA, (Z component)\n",
    "\n",
    "This demonstration pipeline is purely based on the data preparation and the segmentation part.\n",
    "\n",
    "![title](img/image_pipeline.png)\n",
    "\n",
    "First, we will derive an activation vector time using a popular triggering algorithm. After, from the acquired activation vector, we will apply REMOS, visualize the segmentation results and store in Numpy format. \n",
    "\n",
    "If using any of the REMOS scripts, please cite the REMOS manuscript on [SRL Journal] (https://pubs.geoscienceworld.org/srl)\n",
    "\n",
    "Jupyter notebook created by **Angel Bueno (angelbueno@ugr.es)**. Running on the following dependencies:\n",
    "\n",
    "* Numpy = 1.15.4\n",
    "* Scipy = 1.2.1\n",
    "* Obspy = 1.1.0\n",
    "* Matplotlib = 2.2.3"
   ]
  },
  {
   "cell_type": "code",
   "execution_count": 1,
   "metadata": {},
   "outputs": [],
   "source": [
    "# First, we import the requested packages.\n",
    "import remos\n",
    "import obspy\n",
    "import os\n",
    "import numpy as np"
   ]
  },
  {
   "cell_type": "markdown",
   "metadata": {},
   "source": [
    "# Defining the parameters and deriving the activation vector time (on_off)"
   ]
  },
  {
   "cell_type": "markdown",
   "metadata": {},
   "source": [
    "As mentioned in the paper, REMOS request an activation vector time to define the exploration regions. In this example, we can use the recursive STA/LTA algorithm to get such vector, along with the number of regions to explore. ALternative methods can be interfaced from the excellent obspy library triggers package [obspy.signal.trigger](https://docs.obspy.org/master/packages/autogen/obspy.signal.trigger.html), or another triggering algorithms, such us [AMPA](https://ieeexplore.ieee.org/abstract/document/6549118). \n",
    "\n",
    "REMOS algorithm is built using Python and Obspy libraries and its outputs are consistent with the formats and specifications of Obspy (and as such can also be easily transformed into other formats if required). In essence, if STA/LTA times are incorporated in a coincidence trigger, and windows sizes are defined accordingly for\n",
    "each station, resulting times could be used for detection/segmentation in a network.\n"
   ]
  },
  {
   "cell_type": "code",
   "execution_count": 2,
   "metadata": {},
   "outputs": [],
   "source": [
    "# Once packages are imported, we need to define the parameters that are needed by part of the algorithm. \n",
    "delay_in = 4.5\n",
    "\n",
    "#frequency filters and filtering flag\n",
    "filtering = True\n",
    "bandpass = [2.0, 12.0]\n",
    "\n",
    "#type of trigger (needed for obspy)\n",
    "trigger_type = \"recstalta\"\n",
    "nsta = 3\n",
    "nlta = 15\n",
    "\n",
    "#trigger on/off\n",
    "trig_on = 2.4\n",
    "trig_of = 1.6\n",
    "\n",
    "#sampling frequency of the trace.\n",
    "sampling_frequency = 100.0 "
   ]
  },
  {
   "cell_type": "markdown",
   "metadata": {},
   "source": [
    "Notice that, in this case, we are reading a \".mseed\" file located inside the \"data/\" folder. On the inners, REMOS work with Numpy Arrays, and we access such array from the Trace.data field defined in Obspy. Please, **make sure the data is in correct format before running REMOS**\n"
   ]
  },
  {
   "cell_type": "code",
   "execution_count": 5,
   "metadata": {},
   "outputs": [],
   "source": [
    "readingFolder = os.path.join(os.path.join(\"data\",\"YC.BESA..HHZ.D.2007.245.mseed\"))"
   ]
  },
  {
   "cell_type": "code",
   "execution_count": 6,
   "metadata": {},
   "outputs": [],
   "source": [
    "original, st, data, cft, on_of = remos.do_sta_lta(readingFolder, nsta, nlta, trig_on, trig_of, filtered=True, bandpass=bandpass)"
   ]
  },
  {
   "cell_type": "code",
   "execution_count": 7,
   "metadata": {},
   "outputs": [
    {
     "name": "stdout",
     "output_type": "stream",
     "text": [
      "[13945 30637 40505 80916 95939]\n"
     ]
    }
   ],
   "source": [
    "print on_of[:,1] #array (in samples) of the activation times"
   ]
  },
  {
   "cell_type": "markdown",
   "metadata": {},
   "source": [
    "# SEGMENTATION\n",
    "\n",
    "Once the on_of times are selected, REMOS consistenly segment the events based on entropy and energy criteria (equation 4 in the paper):\n",
    "\n",
    "\\begin{align}\n",
    "\\text{arg}\\,\\min\\limits_{k}\\, E_{k}\n",
    "\\end{align}\n",
    "\n",
    "\n",
    "This is translated in the function remos_segmentation, which is defined as following:\n",
    "\n",
    "```python\n",
    "W_d = 10\n",
    "W_s = 80\n",
    "windows = [W_d, W_s]\n",
    "# Original is the main, unprocessed and unfiltered data, whereas processed is the modified trace. The parameter on is the activation vector, [W_d, W_s] is the windows, epsilon is the threshold, and the other parameters relate to which trace we want to cut, or delay times in case of restrictive triggers. see publication for further details\n",
    "remos_segmentation(original, processed, on, [W_d, W_s], epsilon=2.5, plot=False, cut=\"original\", delay_in=4.5 )\n",
    "```\n",
    "\n",
    "In this example, we will define the hyperparameters needed for the algorithm. W_d or the window size, W_s or the exploration region, both in seconds. **notice that the other hyperparameters are highly dependent of the application in need, and is left to the analyst which ones are best for their analysis** \n"
   ]
  },
  {
   "cell_type": "code",
   "execution_count": 8,
   "metadata": {},
   "outputs": [],
   "source": [
    "window_size = 10.0\n",
    "search_window = 80.0\n",
    "duration_windows = [window_size, search_window]    \n",
    "delay_in = 4.5"
   ]
  },
  {
   "cell_type": "code",
   "execution_count": 9,
   "metadata": {},
   "outputs": [],
   "source": [
    "#Change to true if you want to see a visualization on the notebook\n",
    "candidates_segmented = remos.run_remos(original, data, on_of, delay_in, duration_windows, \n",
    "                                        epsilon=2.5, plot=False, cut=\"original\")\n",
    "#we can also clean using the snr threshold\n",
    "candidates_clean = remos.clean_data(candidates_segmented, snr_thr=30.0, min_duration=10.0)"
   ]
  },
  {
   "cell_type": "code",
   "execution_count": 10,
   "metadata": {},
   "outputs": [
    {
     "name": "stdout",
     "output_type": "stream",
     "text": [
      "[array([-3.4777345 , -2.95105231, -1.77721963, ...,  1.8375833 ,\n",
      "        1.49711555,  0.72431803]), 0.1, 12450, 17450]\n"
     ]
    }
   ],
   "source": [
    "print candidates_segmented[0] "
   ]
  },
  {
   "cell_type": "markdown",
   "metadata": {},
   "source": [
    "## Examining the outputs. Getting the on_of times for further preprocessing\n",
    "\n",
    "The output of each segmented candidate follows the same data structure as described in the paper:\n",
    "\n",
    "![title](img/output_1.png)\n",
    "\n",
    "Using this matrix, we can extend our analysis and interface with any algorithm we require. "
   ]
  },
  {
   "cell_type": "code",
   "execution_count": 11,
   "metadata": {},
   "outputs": [],
   "source": [
    "# We can select the times only. \n",
    "positions = np.zeros((len(candidates_segmented), 2))\n",
    "for k, mem in enumerate(candidates_segmented):\n",
    "    start = mem[2]\n",
    "    end = mem[3]\n",
    "    positions[k] = [start, end]"
   ]
  },
  {
   "cell_type": "markdown",
   "metadata": {},
   "source": [
    "# VISUALIZATION of RESULTS"
   ]
  },
  {
   "cell_type": "code",
   "execution_count": 12,
   "metadata": {},
   "outputs": [
    {
     "data": {
      "image/png": "[encoded data removed]",
      "text/plain": [
       "<Figure size 1440x576 with 1 Axes>"
      ]
     },
     "metadata": {
      "needs_background": "light"
     },
     "output_type": "display_data"
    }
   ],
   "source": [
    "remos.visualize_segmentation(data, positions)"
   ]
  },
  {
   "cell_type": "code",
   "execution_count": 13,
   "metadata": {},
   "outputs": [],
   "source": [
    "#we can visualize "
   ]
  },
  {
   "cell_type": "code",
   "execution_count": null,
   "metadata": {},
   "outputs": [],
   "source": []
  },
  {
   "cell_type": "code",
   "execution_count": null,
   "metadata": {},
   "outputs": [],
   "source": []
  }
 ],
 "metadata": {
  "kernelspec": {
   "display_name": "Python 2",
   "language": "python",
   "name": "python2"
  },
  "language_info": {
   "codemirror_mode": {
    "name": "ipython",
    "version": 2
   },
   "file_extension": ".py",
   "mimetype": "text/x-python",
   "name": "python",
   "nbconvert_exporter": "python",
   "pygments_lexer": "ipython2",
   "version": "2.7.15"
  }
 },
 "nbformat": 4,
 "nbformat_minor": 2
}
